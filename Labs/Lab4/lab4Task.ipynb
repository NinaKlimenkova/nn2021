{
 "cells": [
  {
   "cell_type": "markdown",
   "metadata": {},
   "source": [
    "# Лабораторна робота 4\n",
    "\n",
    "## Завдання\n",
    "\n",
    "1. Виконати вирішення задачs класифікації для 3 класів з набору даних [food101](https://storage.googleapis.com/ztm_tf_course/food_vision/101_food_classes_10_percent.zip)\n",
    "2. Індекси класів визначити індивідуально за залежностями: i1=n-1,i2=n+29,i3=n+59 (де і1,і2,і3 - індекс класу (починаючи з 0) у відсортованому за алфавітом наборі даних, n - номер за [списком групи](https://docs.google.com/spreadsheets/d/1k6rqaOpWJkmzRzaXXWLZHYwsY4hskfiDkp91yw2BxfQ/edit#gid=0)\n",
    "3. Результати оформити у вигляді файлу з кодом для моделювання та візуалізації у форматі .ipynb\n",
    "4. Результати викласти у репозиторії GitHub (папка Lab4).\n",
    "5. Підготуватися до захисту лабораторрної роботи (пояснення коду, відповіді на запитання за темою)\n"
   ]
  }
 ],
 "metadata": {
  "language_info": {
   "name": "python"
  },
  "orig_nbformat": 4
 },
 "nbformat": 4,
 "nbformat_minor": 2
}
