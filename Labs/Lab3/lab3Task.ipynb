{
 "cells": [
  {
   "cell_type": "markdown",
   "metadata": {},
   "source": [
    "# Лабораторна робота3\n",
    "\n",
    "## Завдання\n",
    "\n",
    "1. На основі [документу](https://dev.mrdbourke.com/tensorflow-deep-learning/02_neural_network_classification_in_tensorflow/) вирішити завдання класифікації для набору даних  Fashion MNIST.\n",
    "2. Для моделювання використати 3 класи індекси яких взяти відповідно до номеру у [списку групи](https://docs.google.com/spreadsheets/d/1k6rqaOpWJkmzRzaXXWLZHYwsY4hskfiDkp91yw2BxfQ/edit#gid=0) у наведеній нижче таблиці.\n",
    "3. Моделювання провести із використанням нейронної мережі (Flatten & Dense layers).\n",
    "4. Здійснити вибір оптимального кроку градієнтного алгоритму (learning_rate), а також побудову Confusion Matrix.\n",
    "5. Результати оформити у вигляді файлу з кодом для моделювання та візуалізації у форматі .ipynb\n",
    "6. Результати викласти у репозиторії GitHub (папка Lab3).\n",
    "7. Підготуватися до захисту лабораторрної роботи (пояснення коду, відповіді на запитання за темою)\n"
   ]
  },
  {
   "cell_type": "markdown",
   "metadata": {},
   "source": [
    "### Варіанти значень індексів класів для виконання лабораторної роботи №3\n",
    "\n",
    "![variants](variants.jpg)"
   ]
  }
 ],
 "metadata": {
  "language_info": {
   "name": "python"
  },
  "orig_nbformat": 4
 },
 "nbformat": 4,
 "nbformat_minor": 2
}
